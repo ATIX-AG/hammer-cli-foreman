{
 "cells": [
  {
   "cell_type": "markdown",
   "metadata": {},
   "source": [
    "# Release of hammer-cli-foreman gem\n",
    "\n",
    "## Requirements\n",
    "- push access to https://github.com/theforeman/hammer-cli-foreman\n",
    "- push access to rubygems.org for hammer-cli-foreman\n",
    "- sudo yum install transifex-client python-slugify asciidoc\n",
    "- ensure neither the `git push` or `gem push` don't require interractive auth. If you can't use api key or ssh key to auth skip these steps and run them form the shell manually \n",
    "- to push translations you need an account on Transifex\n",
    "\n",
    "## Release process\n",
    "- Follow the steps with `<Shift>+<Enter>` or `<Ctrl>+<Enter>,<Down>`\n",
    "- If anything fails, fix it and re-run the step if applicable\n",
    "\n",
    "## Release settings"
   ]
  },
  {
   "cell_type": "code",
   "execution_count": 1,
   "metadata": {},
   "outputs": [
    {
     "name": "stdout",
     "output_type": "stream",
     "text": [
      "/home/mshira/git/hammer-cli-foreman\n"
     ]
    }
   ],
   "source": [
    "%cd .."
   ]
  },
  {
   "cell_type": "markdown",
   "metadata": {},
   "source": [
    "### Update the following notebook settings"
   ]
  },
  {
   "cell_type": "code",
   "execution_count": 1,
   "metadata": {},
   "outputs": [],
   "source": [
    "NEW_VERSION = '2.4.0'\n",
    "LAST_VERSION = '2.3.1'\n",
    "DEVELOP_VERSION = '2.5.0-develop'\n",
    "NEXT_FUTURE_VERSION = '2.5.0'\n",
    "MAJOR_RELEASE = True\n",
    "STABLE_BRANCH = '2.4-stable'\n",
    "GIT_REMOTE_UPSTREAM = 'origin'\n",
    "WORK_BRANCH = 'master' if MAJOR_RELEASE else STABLE_BRANCH\n",
    "\n"
   ]
  },
  {
   "cell_type": "markdown",
   "metadata": {},
   "source": [
    "### Ensure the repo is up to date"
   ]
  },
  {
   "cell_type": "code",
   "execution_count": 2,
   "metadata": {},
   "outputs": [
    {
     "name": "stdout",
     "output_type": "stream",
     "text": [
      "Already on 'master'\r\n"
     ]
    }
   ],
   "source": [
    "! git checkout {WORK_BRANCH}"
   ]
  },
  {
   "cell_type": "code",
   "execution_count": 3,
   "metadata": {},
   "outputs": [],
   "source": [
    "! git fetch {GIT_REMOTE_UPSTREAM}"
   ]
  },
  {
   "cell_type": "code",
   "execution_count": 4,
   "metadata": {},
   "outputs": [
    {
     "name": "stdout",
     "output_type": "stream",
     "text": [
      "Current branch master is up to date.\r\n"
     ]
    }
   ],
   "source": [
    "! git rebase {GIT_REMOTE_UPSTREAM}/{WORK_BRANCH}"
   ]
  },
  {
   "cell_type": "markdown",
   "metadata": {},
   "source": [
    "### Run tests localy"
   ]
  },
  {
   "cell_type": "code",
   "execution_count": 5,
   "metadata": {},
   "outputs": [
    {
     "name": "stdout",
     "output_type": "stream",
     "text": [
      "Fetching gem metadata from https://rubygems.org/.................\n",
      "Fetching gem metadata from https://rubygems.org/.\n",
      "Resolving dependencies...\n",
      "Using rake 10.1.1\n",
      "Using amazing_print 1.2.2\n",
      "Using json 2.5.1\n",
      "Using oauth 0.5.5\n",
      "Using http-accept 1.7.0\n",
      "Using unf_ext 0.0.7.7\n",
      "Using unf 0.1.4\n",
      "Using domain_name 0.5.20190701\n",
      "Using http-cookie 1.0.3\n",
      "Using mime-types-data 3.2020.1104\n",
      "Using mime-types 3.3.1\n",
      "Using netrc 0.11.0\n",
      "Using rest-client 2.1.0\n",
      "Using apipie-bindings 0.4.0\n",
      "Using builder 3.2.4\n",
      "Using bundler 2.1.4\n",
      "Using byebug 11.1.3\n",
      "Using ci_reporter 2.0.0\n",
      "Using minitest 5.14.1\n",
      "Using ci_reporter_minitest 1.0.0\n",
      "Using clamp 1.1.2\n",
      "Using coderay 1.1.3\n",
      "Using docile 1.3.5\n",
      "Using fast_gettext 2.0.3\n",
      "Using locale 2.1.3\n",
      "Using text 1.3.1\n",
      "Using gettext 3.3.7\n",
      "Using highline 2.0.3\n",
      "Using little-plugger 1.1.4\n",
      "Using multi_json 1.15.0\n",
      "Using logging 2.3.0\n",
      "Using unicode 0.4.4.4\n",
      "Using unicode-display_width 2.0.0\n",
      "Using hammer_cli 2.4.0 from source at `../hammer-cli`\n",
      "Using jwt 2.2.2\n",
      "Using hammer_cli_foreman 2.4.0.pre.develop from source at `.`\n",
      "Using hammer_cli_foreman_kubevirt 0.1.4 from source at `../hammer-cli-foreman-kubevirt`\n",
      "Using hashie 4.1.0\n",
      "Using powerbar 2.0.1\n",
      "Using hammer_cli_foreman_tasks 0.0.15\n",
      "Using hammer_cli_foreman_remote_execution 0.2.1\n",
      "Using interception 0.5\n",
      "Using method_source 1.0.0\n",
      "Using minitest-spec-context 0.0.4\n",
      "Using mocha 1.12.0\n",
      "Using pry 0.13.1\n",
      "Using pry-byebug 3.9.0\n",
      "Using yard 0.9.26\n",
      "Using pry-doc 1.1.0\n",
      "Using pry-rails 0.3.9\n",
      "Using pry-rescue 1.5.2\n",
      "Using rb-readline 0.5.5\n",
      "Using simplecov-html 0.12.3\n",
      "Using simplecov_json_formatter 0.1.2\n",
      "Using simplecov 0.21.2\n",
      "Using thor 1.1.0\n",
      "\u001b[32mBundle updated!\u001b[0m\n"
     ]
    }
   ],
   "source": [
    "! bundle update"
   ]
  },
  {
   "cell_type": "code",
   "execution_count": 8,
   "metadata": {},
   "outputs": [
    {
     "name": "stdout",
     "output_type": "stream",
     "text": [
      "/home/mshira/.rvm/rubies/ruby-2.5.5/bin/ruby -I\"lib:lib\" -I\"/home/mshira/.rvm/gems/ruby-2.5.5/gems/rake-10.1.1/lib\" \"/home/mshira/.rvm/gems/ruby-2.5.5/gems/rake-10.1.1/lib/rake/rake_test_loader.rb\" \"test/unit/image_test.rb\" \"test/unit/messages_test.rb\" \"test/unit/config_group_test.rb\" \"test/unit/option_sources/id_params_test.rb\" \"test/unit/option_sources/ids_params_test.rb\" \"test/unit/exception_handler_test.rb\" \"test/unit/user_test.rb\" \"test/unit/api/session_authenticator_wrapper_test.rb\" \"test/unit/api/interactive_basic_auth_test.rb\" \"test/unit/api/oauth/oauth_authentication_code_grant_test.rb\" \"test/unit/api/oauth/oauth_password_grant_test.rb\" \"test/unit/api/void_auth_test.rb\" \"test/unit/hostgroup_test.rb\" \"test/unit/realm_test.rb\" \"test/unit/auth_source_ldap_test.rb\" \"test/unit/audit_test.rb\" \"test/unit/smart_class_parameter_test.rb\" \"test/unit/partition_table_test.rb\" \"test/unit/operating_system_test.rb\" \"test/unit/media_test.rb\" \"test/unit/architecture_test.rb\" \"test/unit/usergroup_test.rb\" \"test/unit/role_test.rb\" \"test/unit/location_test.rb\" \"test/unit/param_filters_test.rb\" \"test/unit/option_builders_test.rb\" \"test/unit/api_test.rb\" \"test/unit/sessions_test.rb\" \"test/unit/organization_test.rb\" \"test/unit/settings_test.rb\" \"test/unit/template_test.rb\" \"test/unit/dependency_resolver_test.rb\" \"test/unit/smart_proxy_test.rb\" \"test/unit/domain_test.rb\" \"test/unit/defaults_test.rb\" \"test/unit/model_test.rb\" \"test/unit/puppet_class_test.rb\" \"test/unit/compute_resource_test.rb\" \"test/unit/id_resolver_test.rb\" \"test/unit/filter_test.rb\" \"test/unit/puppet_environment_test.rb\" \"test/unit/output/formatters_test.rb\" \"test/unit/host_test.rb\" \"test/unit/config_report_test.rb\" \"test/unit/fact_test.rb\" \"test/unit/external_usergroup_test.rb\" \"test/unit/commands_test.rb\" \"test/unit/common_parameter_test.rb\" \"test/unit/subnet_test.rb\" \"test/functional/http_proxy_test.rb\" \"test/functional/commands/list_test.rb\" \"test/functional/user_mail_notification_test.rb\" \"test/functional/user_test.rb\" \"test/functional/realm_test.rb\" \"test/functional/personal_access_token_test.rb\" \"test/functional/audit_test.rb\" \"test/functional/mail_notification_test.rb\" \"test/functional/ping_test.rb\" \"test/functional/smart_class_parameter_test.rb\" \"test/functional/media_test.rb\" \"test/functional/role_test.rb\" \"test/functional/location_test.rb\" \"test/functional/hostgroup/create_test.rb\" \"test/functional/hostgroup/update_test.rb\" \"test/functional/subnet/create_test.rb\" \"test/functional/subnet/update_test.rb\" \"test/functional/organization_test.rb\" \"test/functional/settings_test.rb\" \"test/functional/template_test.rb\" \"test/functional/proxy_test.rb\" \"test/functional/compute_resource_test.rb\" \"test/functional/compute_attribute_test.rb\" \"test/functional/filter_test.rb\" \"test/functional/report_template_test.rb\" \"test/functional/compute_profile_test.rb\" \"test/functional/host_test.rb\" \"test/functional/ssh_keys_test.rb\" \"test/functional/status_test.rb\" \"test/functional/associating_commands_test.rb\" \"test/functional/auth_source_test.rb\" \"test/functional/virtual_machine_test.rb\" \"test/functional/bookmark_test.rb\" \n",
      "environment command is deprecated and will be removed in one of the future versions. Please use puppet-environment command instead.\n",
      "report command is deprecated and will be removed in one of the future versions. Please use config-report command instead.\n",
      "Run options: --seed 20363\n",
      "\n",
      "# Running:\n",
      "\n",
      ".....................................................................................................................................................................................................................................................................................................................................................................................................................................................................................................................................................................................................................................................................................................................................................................................................................................................................................................................................................................................................................Warning: Option --environment-id is deprecated. Use --puppet-environment[-id] instead\n",
      ".Warning: Option --environment-id is deprecated. Use --puppet-environment[-id] instead\n",
      ".Warning: Option --environment-id is deprecated. Use --puppet-environment[-id] instead\n",
      ".Warning: Option --environment-id is deprecated. Use --puppet-environment[-id] instead\n",
      ".Warning: Option --environment-id is deprecated. Use --puppet-environment[-id] instead\n",
      ".Warning: Option --environment-id is deprecated. Use --puppet-environment[-id] instead\n",
      "..............................................................Warning: Option --environment-id is deprecated. Use --puppet-environment[-id] instead\n",
      ".Warning: Option --environment-id is deprecated. Use --puppet-environment[-id] instead\n",
      "...Warning: Option --environment-id is deprecated. Use --puppet-environment[-id] instead\n",
      ".Warning: Option --environment-id is deprecated. Use --puppet-environment[-id] instead\n",
      ".Warning: Option --environment-id is deprecated. Use --puppet-environment[-id] instead\n",
      ".................................................................................................................................................................................................................................................................................................................................................................................................................................................................................................................................................................................................................................................................................................................................................................................................................................................\n",
      "\n",
      "Finished in 20.589601s, 90.8711 runs/s, 382.8146 assertions/s.\n",
      "\n",
      "1871 runs, 7882 assertions, 0 failures, 0 errors, 0 skips\n",
      "Coverage report generated for MiniTest to /home/mshira/git/coverage. 7780 / 9153 LOC (85.0%) covered.\n"
     ]
    }
   ],
   "source": [
    "! bundle exec rake test"
   ]
  },
  {
   "cell_type": "markdown",
   "metadata": {},
   "source": [
    "### Update release related stuff"
   ]
  },
  {
   "cell_type": "code",
   "execution_count": 6,
   "metadata": {},
   "outputs": [
    {
     "name": "stdout",
     "output_type": "stream",
     "text": [
      "sed: can't read lib/hammer_cli_foreman/version.rb: No such file or directory\r\n"
     ]
    }
   ],
   "source": [
    "! sed -i 's/Gem::Version.new .*/Gem::Version.new \"{NEW_VERSION}\"/' lib/hammer_cli_foreman/version.rb"
   ]
  },
  {
   "cell_type": "code",
   "execution_count": 7,
   "metadata": {},
   "outputs": [
    {
     "data": {
      "text/markdown": [
       "* Fix hammer list failure when defaults are set ([PR #551](https://github.com/theforeman/hammer-cli-foreman/pull/551)), [#31384](http://projects.theforeman.org/issues/31384)\n",
       "* Deprecating puppetrun command ([PR #554](https://github.com/theforeman/hammer-cli-foreman/pull/554)), [#31536](http://projects.theforeman.org/issues/31536)\n",
       "* Set new owner with host update ([PR #556](https://github.com/theforeman/hammer-cli-foreman/pull/556)), [#31609](http://projects.theforeman.org/issues/31609)\n",
       "* Consume structured statuses api data ([PR #553](https://github.com/theforeman/hammer-cli-foreman/pull/553)), [#31570](http://projects.theforeman.org/issues/31570)\n",
       "* Added missing tests to filter ([PR #549](https://github.com/theforeman/hammer-cli-foreman/pull/549)), [#31074](http://projects.theforeman.org/issues/31074)\n",
       "* Bump to 2.4.0-develop"
      ],
      "text/plain": [
       "<IPython.core.display.Markdown object>"
      ]
     },
     "execution_count": 7,
     "metadata": {},
     "output_type": "execute_result"
    }
   ],
   "source": [
    "# Parse git changelog\n",
    "from IPython.display import Markdown as md\n",
    "from subprocess import check_output\n",
    "from shlex import split\n",
    "import re\n",
    "\n",
    "def format_log_entry(entry):\n",
    "    issues = re.findall(r'[^(]#([0-9]+)', entry)\n",
    "    entry = re.sub(r'([fF]ixes|[rR]efs)[^-]*-\\s*(.*)', r'\\2', entry)\n",
    "    entry = '* ' + entry.capitalize()\n",
    "    entry = re.sub(r'\\(#([0-9]+)\\)', r'([PR #\\1](https://github.com/theforeman/hammer-cli-foreman/pull/\\1))', entry)\n",
    "    for i in issues:\n",
    "        referenced_issues.append(i)\n",
    "        entry = entry + ', [#%s](http://projects.theforeman.org/issues/%s)' % (i, i)\n",
    "    return entry\n",
    "\n",
    "def skip(entry):\n",
    "    if re.match(r'Merge pull', entry) or \\\n",
    "      re.match(r'^i18n', entry) or \\\n",
    "      re.match(r'^Bump to version', entry):\n",
    "        return True\n",
    "    else:\n",
    "        return False\n",
    "referenced_issues = []    \n",
    "git_log_cmd = 'git log --pretty=format:\"%%s\" %s..HEAD' % LAST_VERSION\n",
    "log = check_output(split(git_log_cmd)).decode('utf8').split('\\n')\n",
    "change_log = [format_log_entry(e) for e in log if not skip(e)]\n",
    "md('\\n'.join(change_log))\n"
   ]
  },
  {
   "cell_type": "code",
   "execution_count": 8,
   "metadata": {},
   "outputs": [
    {
     "ename": "FileNotFoundError",
     "evalue": "[Errno 2] No such file or directory: 'doc/release_notes.md' -> 'doc/release_notes.md.bak'",
     "output_type": "error",
     "traceback": [
      "\u001b[0;31m---------------------------------------------------------------------------\u001b[0m",
      "\u001b[0;31mFileNotFoundError\u001b[0m                         Traceback (most recent call last)",
      "\u001b[0;32m<ipython-input-8-bc537951588c>\u001b[0m in \u001b[0;36m<module>\u001b[0;34m\u001b[0m\n\u001b[1;32m      5\u001b[0m \u001b[0;34m\u001b[0m\u001b[0m\n\u001b[1;32m      6\u001b[0m \u001b[0mfh\u001b[0m \u001b[0;34m=\u001b[0m \u001b[0mfileinput\u001b[0m\u001b[0;34m.\u001b[0m\u001b[0minput\u001b[0m\u001b[0;34m(\u001b[0m\u001b[0;34m'doc/release_notes.md'\u001b[0m\u001b[0;34m,\u001b[0m \u001b[0minplace\u001b[0m\u001b[0;34m=\u001b[0m\u001b[0;32mTrue\u001b[0m\u001b[0;34m)\u001b[0m\u001b[0;34m\u001b[0m\u001b[0;34m\u001b[0m\u001b[0m\n\u001b[0;32m----> 7\u001b[0;31m \u001b[0;32mfor\u001b[0m \u001b[0mline\u001b[0m \u001b[0;32min\u001b[0m \u001b[0mfh\u001b[0m\u001b[0;34m:\u001b[0m\u001b[0;34m\u001b[0m\u001b[0;34m\u001b[0m\u001b[0m\n\u001b[0m\u001b[1;32m      8\u001b[0m     \u001b[0mprint\u001b[0m\u001b[0;34m(\u001b[0m\u001b[0mline\u001b[0m\u001b[0;34m.\u001b[0m\u001b[0mrstrip\u001b[0m\u001b[0;34m(\u001b[0m\u001b[0;34m)\u001b[0m\u001b[0;34m)\u001b[0m\u001b[0;34m\u001b[0m\u001b[0;34m\u001b[0m\u001b[0m\n\u001b[1;32m      9\u001b[0m     \u001b[0;32mif\u001b[0m \u001b[0mre\u001b[0m\u001b[0;34m.\u001b[0m\u001b[0mmatch\u001b[0m\u001b[0;34m(\u001b[0m\u001b[0;34mr'========'\u001b[0m\u001b[0;34m,\u001b[0m \u001b[0mline\u001b[0m\u001b[0;34m)\u001b[0m\u001b[0;34m:\u001b[0m\u001b[0;34m\u001b[0m\u001b[0;34m\u001b[0m\u001b[0m\n",
      "\u001b[0;32m/usr/lib64/python3.7/fileinput.py\u001b[0m in \u001b[0;36m__next__\u001b[0;34m(self)\u001b[0m\n\u001b[1;32m    250\u001b[0m     \u001b[0;32mdef\u001b[0m \u001b[0m__next__\u001b[0m\u001b[0;34m(\u001b[0m\u001b[0mself\u001b[0m\u001b[0;34m)\u001b[0m\u001b[0;34m:\u001b[0m\u001b[0;34m\u001b[0m\u001b[0;34m\u001b[0m\u001b[0m\n\u001b[1;32m    251\u001b[0m         \u001b[0;32mwhile\u001b[0m \u001b[0;32mTrue\u001b[0m\u001b[0;34m:\u001b[0m\u001b[0;34m\u001b[0m\u001b[0;34m\u001b[0m\u001b[0m\n\u001b[0;32m--> 252\u001b[0;31m             \u001b[0mline\u001b[0m \u001b[0;34m=\u001b[0m \u001b[0mself\u001b[0m\u001b[0;34m.\u001b[0m\u001b[0m_readline\u001b[0m\u001b[0;34m(\u001b[0m\u001b[0;34m)\u001b[0m\u001b[0;34m\u001b[0m\u001b[0;34m\u001b[0m\u001b[0m\n\u001b[0m\u001b[1;32m    253\u001b[0m             \u001b[0;32mif\u001b[0m \u001b[0mline\u001b[0m\u001b[0;34m:\u001b[0m\u001b[0;34m\u001b[0m\u001b[0;34m\u001b[0m\u001b[0m\n\u001b[1;32m    254\u001b[0m                 \u001b[0mself\u001b[0m\u001b[0;34m.\u001b[0m\u001b[0m_filelineno\u001b[0m \u001b[0;34m+=\u001b[0m \u001b[0;36m1\u001b[0m\u001b[0;34m\u001b[0m\u001b[0;34m\u001b[0m\u001b[0m\n",
      "\u001b[0;32m/usr/lib64/python3.7/fileinput.py\u001b[0m in \u001b[0;36m_readline\u001b[0;34m(self)\u001b[0m\n\u001b[1;32m    337\u001b[0m                     \u001b[0;32mpass\u001b[0m\u001b[0;34m\u001b[0m\u001b[0;34m\u001b[0m\u001b[0m\n\u001b[1;32m    338\u001b[0m                 \u001b[0;31m# The next few lines may raise OSError\u001b[0m\u001b[0;34m\u001b[0m\u001b[0;34m\u001b[0m\u001b[0;34m\u001b[0m\u001b[0m\n\u001b[0;32m--> 339\u001b[0;31m                 \u001b[0mos\u001b[0m\u001b[0;34m.\u001b[0m\u001b[0mrename\u001b[0m\u001b[0;34m(\u001b[0m\u001b[0mself\u001b[0m\u001b[0;34m.\u001b[0m\u001b[0m_filename\u001b[0m\u001b[0;34m,\u001b[0m \u001b[0mself\u001b[0m\u001b[0;34m.\u001b[0m\u001b[0m_backupfilename\u001b[0m\u001b[0;34m)\u001b[0m\u001b[0;34m\u001b[0m\u001b[0;34m\u001b[0m\u001b[0m\n\u001b[0m\u001b[1;32m    340\u001b[0m                 \u001b[0mself\u001b[0m\u001b[0;34m.\u001b[0m\u001b[0m_file\u001b[0m \u001b[0;34m=\u001b[0m \u001b[0mopen\u001b[0m\u001b[0;34m(\u001b[0m\u001b[0mself\u001b[0m\u001b[0;34m.\u001b[0m\u001b[0m_backupfilename\u001b[0m\u001b[0;34m,\u001b[0m \u001b[0mself\u001b[0m\u001b[0;34m.\u001b[0m\u001b[0m_mode\u001b[0m\u001b[0;34m)\u001b[0m\u001b[0;34m\u001b[0m\u001b[0;34m\u001b[0m\u001b[0m\n\u001b[1;32m    341\u001b[0m                 \u001b[0;32mtry\u001b[0m\u001b[0;34m:\u001b[0m\u001b[0;34m\u001b[0m\u001b[0;34m\u001b[0m\u001b[0m\n",
      "\u001b[0;31mFileNotFoundError\u001b[0m: [Errno 2] No such file or directory: 'doc/release_notes.md' -> 'doc/release_notes.md.bak'"
     ]
    }
   ],
   "source": [
    "# Write release notes\n",
    "from datetime import datetime\n",
    "import fileinput\n",
    "import sys\n",
    "\n",
    "fh = fileinput.input('doc/release_notes.md', inplace=True)  \n",
    "for line in fh:  \n",
    "    print(line.rstrip())\n",
    "    if re.match(r'========', line):\n",
    "        print('### %s (%s)' % (NEW_VERSION, datetime.today().strftime('%Y-%m-%d')))\n",
    "        for entry in change_log:\n",
    "            print(entry)\n",
    "        print('')\n",
    "fh.close()  "
   ]
  },
  {
   "cell_type": "markdown",
   "metadata": {},
   "source": [
    "# Manual step: Update deps in the gemspec if neccessary"
   ]
  },
  {
   "cell_type": "markdown",
   "metadata": {},
   "source": [
    "### Check what is going to be commited"
   ]
  },
  {
   "cell_type": "code",
   "execution_count": 9,
   "metadata": {
    "scrolled": false
   },
   "outputs": [
    {
     "name": "stdout",
     "output_type": "stream",
     "text": [
      "On branch master\r\n",
      "Changes to be committed:\r\n",
      "  (use \"git restore --staged <file>...\" to unstage)\r\n",
      "\t\u001b[32mmodified:   ../doc/release_notes.md\u001b[m\r\n",
      "\t\u001b[32mmodified:   gem_release.ipynb\u001b[m\r\n",
      "\r\n"
     ]
    }
   ],
   "source": [
    "! git add -u\n",
    "! git status"
   ]
  },
  {
   "cell_type": "code",
   "execution_count": 10,
   "metadata": {
    "scrolled": true
   },
   "outputs": [
    {
     "name": "stdout",
     "output_type": "stream",
     "text": [
      "\u001b[1mdiff --git a/doc/release_notes.md b/doc/release_notes.md\u001b[m\r\n",
      "\u001b[1mindex e86c205fc..e1cd334da 100644\u001b[m\r\n",
      "\u001b[1m--- a/doc/release_notes.md\u001b[m\r\n",
      "\u001b[1m+++ b/doc/release_notes.md\u001b[m\r\n",
      "\u001b[36m@@ -1,5 +1,14 @@\u001b[m\r\n",
      " Release notes\u001b[m\r\n",
      " =============\u001b[m\r\n",
      "\u001b[32m+\u001b[m\r\n",
      "\u001b[32m+\u001b[m\u001b[32m### 2.4.0 (2021-02-01)\u001b[m\r\n",
      "\u001b[32m+\u001b[m\u001b[32m* Fix hammer list failure when defaults are set ([PR #551](https://github.com/theforeman/hammer-cli-foreman/pull/551)), [#31384](http://projects.theforeman.org/issues/31384)\u001b[m\u001b[41m \u001b[m\r\n",
      "\u001b[32m+\u001b[m\u001b[32m* Deprecating puppetrun command ([PR #554](https://github.com/theforeman/hammer-cli-foreman/pull/554)), [#31536](http://projects.theforeman.org/issues/31536)\u001b[m\r\n",
      "\u001b[32m+\u001b[m\u001b[32m* Set new owner with host update ([PR #556](https://github.com/theforeman/hammer-cli-foreman/pull/556)), [#31609](http://projects.theforeman.org/issues/31609)\u001b[m\r\n",
      "\u001b[32m+\u001b[m\u001b[32m* Consume structured statuses api data ([PR #553](https://github.com/theforeman/hammer-cli-foreman/pull/553)), [#31570](http://projects.theforeman.org/issues/31570)\u001b[m\r\n",
      "\u001b[32m+\u001b[m\u001b[32m* Added missing tests to filter ([PR #549](https://github.com/theforeman/hammer-cli-foreman/pull/549)), [#31074](http://projects.theforeman.org/issues/31074')\u001b[m\r\n",
      "\u001b[32m+\u001b[m\u001b[32m* Bump to 2.4.0-develop\u001b[m\r\n",
      "\u001b[32m+\u001b[m\r\n",
      " ### 2.3.0 (2020-11-03)\u001b[m\r\n",
      " * Hammer ping skip authentication ([PR #550](https://github.com/theforeman/hammer-cli-foreman/pull/550)), [#31140](http://projects.theforeman.org/issues/31140)\u001b[m\r\n",
      " * Return non-zero exit code if services failed, [#30496](http://projects.theforeman.org/issues/30496)\u001b[m\r\n",
      "\u001b[1mdiff --git a/rel-eng/gem_release.ipynb b/rel-eng/gem_release.ipynb\u001b[m\r\n",
      "\u001b[1mindex e5d5269ef..81e96e411 100644\u001b[m\r\n",
      "\u001b[1m--- a/rel-eng/gem_release.ipynb\u001b[m\r\n",
      "\u001b[1m+++ b/rel-eng/gem_release.ipynb\u001b[m\r\n",
      "\u001b[36m@@ -50,12 +50,12 @@\u001b[m\r\n",
      "    \"metadata\": {},\u001b[m\r\n",
      "    \"outputs\": [],\u001b[m\r\n",
      "    \"source\": [\u001b[m\r\n",
      "\u001b[31m-    \"NEW_VERSION = '2.3.0'\\n\",\u001b[m\r\n",
      "\u001b[31m-    \"LAST_VERSION = '2.2.0'\\n\",\u001b[m\r\n",
      "\u001b[31m-    \"DEVELOP_VERSION = '2.4.0-develop'\\n\",\u001b[m\r\n",
      "\u001b[31m-    \"NEXT_FUTURE_VERSION = '2.4.0'\\n\",\u001b[m\r\n",
      "\u001b[32m+\u001b[m\u001b[32m    \"NEW_VERSION = '2.4.0'\\n\",\u001b[m\r\n",
      "\u001b[32m+\u001b[m\u001b[32m    \"LAST_VERSION = '2.3.1'\\n\",\u001b[m\r\n",
      "\u001b[32m+\u001b[m\u001b[32m    \"DEVELOP_VERSION = '2.5-develop'\\n\",\u001b[m\r\n",
      "\u001b[32m+\u001b[m\u001b[32m    \"NEXT_FUTURE_VERSION = '2.5.0'\\n\",\u001b[m\r\n",
      "     \"MAJOR_RELEASE = True\\n\",\u001b[m\r\n",
      "\u001b[31m-    \"STABLE_BRANCH = '2.3-stable'\\n\",\u001b[m\r\n",
      "\u001b[32m+\u001b[m\u001b[32m    \"STABLE_BRANCH = '2.4-stable'\\n\",\u001b[m\r\n",
      "     \"GIT_REMOTE_UPSTREAM = 'origin'\\n\",\u001b[m\r\n",
      "     \"WORK_BRANCH = 'master' if MAJOR_RELEASE else STABLE_BRANCH\\n\",\u001b[m\r\n",
      "     \"\\n\"\u001b[m\r\n",
      "\u001b[36m@@ -77,6 +77,7 @@\u001b[m\r\n",
      "      \"name\": \"stdout\",\u001b[m\r\n",
      "      \"output_type\": \"stream\",\u001b[m\r\n",
      "      \"text\": [\u001b[m\r\n",
      "\u001b[32m+\u001b[m\u001b[32m      \"M\\trel-eng/gem_release.ipynb\\r\\n\",\u001b[m\r\n",
      "       \"Already on 'master'\\r\\n\"\u001b[m\r\n",
      "      ]\u001b[m\r\n",
      "     }\u001b[m\r\n",
      "\u001b[36m@@ -89,31 +90,22 @@\u001b[m\r\n",
      "    \"cell_type\": \"code\",\u001b[m\r\n",
      "    \"execution_count\": 4,\u001b[m\r\n",
      "    \"metadata\": {},\u001b[m\r\n",
      "\u001b[31m-   \"outputs\": [\u001b[m\r\n",
      "\u001b[31m-    {\u001b[m\r\n",
      "\u001b[31m-     \"name\": \"stdout\",\u001b[m\r\n",
      "\u001b[31m-     \"output_type\": \"stream\",\u001b[m\r\n",
      "\u001b[31m-     \"text\": [\u001b[m\r\n",
      "\u001b[31m-      \"From github.com:theforeman/hammer-cli-foreman\\r\\n\",\u001b[m\r\n",
      "\u001b[31m-      \"   7cec74e2e..5a5a25fbf  2.1-stable -> origin/2.1-stable\\r\\n\",\u001b[m\r\n",
      "\u001b[31m-      \"   bb8cfdde2..bba9dfe58  2.2-stable -> origin/2.2-stable\\r\\n\"\u001b[m\r\n",
      "\u001b[31m-     ]\u001b[m\r\n",
      "\u001b[31m-    }\u001b[m\r\n",
      "\u001b[31m-   ],\u001b[m\r\n",
      "\u001b[32m+\u001b[m\u001b[32m   \"outputs\": [],\u001b[m\r\n",
      "    \"source\": [\u001b[m\r\n",
      "     \"! git fetch {GIT_REMOTE_UPSTREAM}\"\u001b[m\r\n",
      "    ]\u001b[m\r\n",
      "   },\u001b[m\r\n",
      "   {\u001b[m\r\n",
      "    \"cell_type\": \"code\",\u001b[m\r\n",
      "\u001b[31m-   \"execution_count\": 5,\u001b[m\r\n",
      "\u001b[32m+\u001b[m\u001b[32m   \"execution_count\": 4,\u001b[m\r\n",
      "    \"metadata\": {},\u001b[m\r\n",
      "    \"outputs\": [\u001b[m\r\n",
      "     {\u001b[m\r\n",
      "      \"name\": \"stdout\",\u001b[m\r\n",
      "      \"output_type\": \"stream\",\u001b[m\r\n",
      "      \"text\": [\u001b[m\r\n",
      "\u001b[31m-      \"Current branch master is up to date.\\r\\n\"\u001b[m\r\n",
      "\u001b[32m+\u001b[m\u001b[32m      \"error: cannot rebase: You have unstaged changes.\\r\\n\",\u001b[m\r\n",
      "\u001b[32m+\u001b[m\u001b[32m      \"error: Please commit or stash them.\\r\\n\"\u001b[m\r\n",
      "      ]\u001b[m\r\n",
      "     }\u001b[m\r\n",
      "    ],\u001b[m\r\n",
      "\u001b[36m@@ -130,25 +122,26 @@\u001b[m\r\n",
      "   },\u001b[m\r\n",
      "   {\u001b[m\r\n",
      "    \"cell_type\": \"code\",\u001b[m\r\n",
      "\u001b[31m-   \"execution_count\": 7,\u001b[m\r\n",
      "\u001b[32m+\u001b[m\u001b[32m   \"execution_count\": 6,\u001b[m\r\n",
      "    \"metadata\": {},\u001b[m\r\n",
      "    \"outputs\": [\u001b[m\r\n",
      "     {\u001b[m\r\n",
      "      \"name\": \"stdout\",\u001b[m\r\n",
      "      \"output_type\": \"stream\",\u001b[m\r\n",
      "      \"text\": [\u001b[m\r\n",
      "\u001b[31m-      \"Fetching gem metadata from https://rubygems.org/........\\n\",\u001b[m\r\n",
      "\u001b[32m+\u001b[m\u001b[32m      \"Fetching gem metadata from https://rubygems.org/.................\\n\",\u001b[m\r\n",
      "\u001b[32m+\u001b[m\u001b[32m      \"Fetching gem metadata from https://rubygems.org/.\\n\",\u001b[m\r\n",
      "       \"Resolving dependencies...\\n\",\u001b[m\r\n",
      "       \"Using rake 10.1.1\\n\",\u001b[m\r\n",
      "\u001b[31m-      \"Using amazing_print 1.2.2\\u001b[32m (was 1.2.1)\\u001b[0m\\n\",\u001b[m\r\n",
      "\u001b[31m-      \"Using json 2.3.1\\n\",\u001b[m\r\n",
      "\u001b[31m-      \"Using oauth 0.5.4\\n\",\u001b[m\r\n",
      "\u001b[32m+\u001b[m\u001b[32m      \"Using amazing_print 1.2.2\\n\",\u001b[m\r\n",
      "\u001b[32m+\u001b[m\u001b[32m      \"Using json 2.5.1\\n\",\u001b[m\r\n",
      "\u001b[32m+\u001b[m\u001b[32m      \"Using oauth 0.5.5\\n\",\u001b[m\r\n",
      "       \"Using http-accept 1.7.0\\n\",\u001b[m\r\n",
      "       \"Using unf_ext 0.0.7.7\\n\",\u001b[m\r\n",
      "       \"Using unf 0.1.4\\n\",\u001b[m\r\n",
      "       \"Using domain_name 0.5.20190701\\n\",\u001b[m\r\n",
      "       \"Using http-cookie 1.0.3\\n\",\u001b[m\r\n",
      "\u001b[31m-      \"Using mime-types-data 3.2020.0512\\n\",\u001b[m\r\n",
      "\u001b[32m+\u001b[m\u001b[32m      \"Using mime-types-data 3.2020.1104\\n\",\u001b[m\r\n",
      "       \"Using mime-types 3.3.1\\n\",\u001b[m\r\n",
      "       \"Using netrc 0.11.0\\n\",\u001b[m\r\n",
      "       \"Using rest-client 2.1.0\\n\",\u001b[m\r\n",
      "\u001b[36m@@ -161,35 +154,40 @@\u001b[m\r\n",
      "       \"Using ci_reporter_minitest 1.0.0\\n\",\u001b[m\r\n",
      "       \"Using clamp 1.1.2\\n\",\u001b[m\r\n",
      "       \"Using coderay 1.1.3\\n\",\u001b[m\r\n",
      "\u001b[31m-      \"Using docile 1.3.2\\n\",\u001b[m\r\n",
      "\u001b[32m+\u001b[m\u001b[32m      \"Using docile 1.3.5\\n\",\u001b[m\r\n",
      "       \"Using fast_gettext 2.0.3\\n\",\u001b[m\r\n",
      "       \"Using locale 2.1.3\\n\",\u001b[m\r\n",
      "       \"Using text 1.3.1\\n\",\u001b[m\r\n",
      "\u001b[31m-      \"Using gettext 3.3.6\\n\",\u001b[m\r\n",
      "\u001b[32m+\u001b[m\u001b[32m      \"Using gettext 3.3.7\\n\",\u001b[m\r\n",
      "       \"Using highline 2.0.3\\n\",\u001b[m\r\n",
      "       \"Using little-plugger 1.1.4\\n\",\u001b[m\r\n",
      "       \"Using multi_json 1.15.0\\n\",\u001b[m\r\n",
      "       \"Using logging 2.3.0\\n\",\u001b[m\r\n",
      "       \"Using unicode 0.4.4.4\\n\",\u001b[m\r\n",
      "\u001b[31m-      \"Using unicode-display_width 1.7.0\\n\",\u001b[m\r\n",
      "\u001b[31m-      \"Using hammer_cli 2.3.0.pre.develop from source at `../hammer-cli`\\n\",\u001b[m\r\n",
      "\u001b[32m+\u001b[m\u001b[32m      \"Using unicode-display_width 2.0.0\\n\",\u001b[m\r\n",
      "\u001b[32m+\u001b[m\u001b[32m      \"Using hammer_cli 2.4.0\\u001b[32m (was 2.4.0.pre.develop)\\u001b[0m from source at `../hammer-cli`\\n\",\u001b[m\r\n",
      "       \"Using jwt 2.2.2\\n\",\u001b[m\r\n",
      "\u001b[31m-      \"Using hammer_cli_foreman 2.3.0.pre.develop from source at `.`\\n\",\u001b[m\r\n",
      "\u001b[32m+\u001b[m\u001b[32m      \"Using hammer_cli_foreman 2.4.0.pre.develop from source at `.`\\n\",\u001b[m\r\n",
      "       \"Using hammer_cli_foreman_kubevirt 0.1.4 from source at `../hammer-cli-foreman-kubevirt`\\n\",\u001b[m\r\n",
      "\u001b[32m+\u001b[m\u001b[32m      \"Using hashie 4.1.0\\n\",\u001b[m\r\n",
      "\u001b[32m+\u001b[m\u001b[32m      \"Using powerbar 2.0.1\\n\",\u001b[m\r\n",
      "\u001b[32m+\u001b[m\u001b[32m      \"Using hammer_cli_foreman_tasks 0.0.15\\n\",\u001b[m\r\n",
      "\u001b[32m+\u001b[m\u001b[32m      \"Using hammer_cli_foreman_remote_execution 0.2.1\\n\",\u001b[m\r\n",
      "       \"Using interception 0.5\\n\",\u001b[m\r\n",
      "       \"Using method_source 1.0.0\\n\",\u001b[m\r\n",
      "       \"Using minitest-spec-context 0.0.4\\n\",\u001b[m\r\n",
      "\u001b[31m-      \"Using mocha 1.11.2\\n\",\u001b[m\r\n",
      "\u001b[32m+\u001b[m\u001b[32m      \"Using mocha 1.12.0\\n\",\u001b[m\r\n",
      "       \"Using pry 0.13.1\\n\",\u001b[m\r\n",
      "       \"Using pry-byebug 3.9.0\\n\",\u001b[m\r\n",
      "\u001b[31m-      \"Using yard 0.9.25\\n\",\u001b[m\r\n",
      "\u001b[32m+\u001b[m\u001b[32m      \"Using yard 0.9.26\\n\",\u001b[m\r\n",
      "       \"Using pry-doc 1.1.0\\n\",\u001b[m\r\n",
      "       \"Using pry-rails 0.3.9\\n\",\u001b[m\r\n",
      "       \"Using pry-rescue 1.5.2\\n\",\u001b[m\r\n",
      "       \"Using rb-readline 0.5.5\\n\",\u001b[m\r\n",
      "       \"Using simplecov-html 0.12.3\\n\",\u001b[m\r\n",
      "\u001b[31m-      \"Using simplecov 0.19.1\\u001b[32m (was 0.19.0)\\u001b[0m\\n\",\u001b[m\r\n",
      "\u001b[31m-      \"Using thor 1.0.1\\n\",\u001b[m\r\n",
      "\u001b[32m+\u001b[m\u001b[32m      \"Using simplecov_json_formatter 0.1.2\\n\",\u001b[m\r\n",
      "\u001b[32m+\u001b[m\u001b[32m      \"Using simplecov 0.21.2\\n\",\u001b[m\r\n",
      "\u001b[32m+\u001b[m\u001b[32m      \"Using thor 1.1.0\\n\",\u001b[m\r\n",
      "       \"\\u001b[32mBundle updated!\\u001b[0m\\n\"\u001b[m\r\n",
      "      ]\u001b[m\r\n",
      "     }\u001b[m\r\n",
      "\u001b[36m@@ -247,9 +245,17 @@\u001b[m\r\n",
      "   },\u001b[m\r\n",
      "   {\u001b[m\r\n",
      "    \"cell_type\": \"code\",\u001b[m\r\n",
      "\u001b[31m-   \"execution_count\": 10,\u001b[m\r\n",
      "\u001b[32m+\u001b[m\u001b[32m   \"execution_count\": 7,\u001b[m\r\n",
      "    \"metadata\": {},\u001b[m\r\n",
      "\u001b[31m-   \"outputs\": [],\u001b[m\r\n",
      "\u001b[32m+\u001b[m\u001b[32m   \"outputs\": [\u001b[m\r\n",
      "\u001b[32m+\u001b[m\u001b[32m    {\u001b[m\r\n",
      "\u001b[32m+\u001b[m\u001b[32m     \"name\": \"stdout\",\u001b[m\r\n",
      "\u001b[32m+\u001b[m\u001b[32m     \"output_type\": \"stream\",\u001b[m\r\n",
      "\u001b[32m+\u001b[m\u001b[32m     \"text\": [\u001b[m\r\n",
      "\u001b[32m+\u001b[m\u001b[32m      \"sed: can't read lib/hammer_cli_foreman/version.rb: No such file or directory\\r\\n\"\u001b[m\r\n",
      "\u001b[32m+\u001b[m\u001b[32m     ]\u001b[m\r\n",
      "\u001b[32m+\u001b[m\u001b[32m    }\u001b[m\r\n",
      "\u001b[32m+\u001b[m\u001b[32m   ],\u001b[m\r\n",
      "    \"source\": [\u001b[m\r\n",
      "     \"! sed -i 's/Gem::Version.new .*/Gem::Version.new \\\"{NEW_VERSION}\\\"/' lib/hammer_cli_foreman/version.rb\"\u001b[m\r\n",
      "    ]\u001b[m\r\n"
     ]
    }
   ],
   "source": [
    "! git diff --cached"
   ]
  },
  {
   "cell_type": "markdown",
   "metadata": {},
   "source": [
    "### Commit changes"
   ]
  },
  {
   "cell_type": "code",
   "execution_count": null,
   "metadata": {
    "scrolled": true
   },
   "outputs": [],
   "source": [
    "! git commit -m \"Bump to {NEW_VERSION}\""
   ]
  },
  {
   "cell_type": "markdown",
   "metadata": {},
   "source": [
    "### Update translations"
   ]
  },
  {
   "cell_type": "code",
   "execution_count": null,
   "metadata": {},
   "outputs": [],
   "source": [
    "if MAJOR_RELEASE:\n",
    "    ! make -C locale/ tx-update"
   ]
  },
  {
   "cell_type": "markdown",
   "metadata": {},
   "source": [
    "### Tag new version"
   ]
  },
  {
   "cell_type": "code",
   "execution_count": null,
   "metadata": {},
   "outputs": [],
   "source": [
    "! git tag {NEW_VERSION}"
   ]
  },
  {
   "cell_type": "markdown",
   "metadata": {},
   "source": [
    "### Prepare stable branch for major release"
   ]
  },
  {
   "cell_type": "code",
   "execution_count": null,
   "metadata": {},
   "outputs": [],
   "source": [
    "if MAJOR_RELEASE:\n",
    "    ! git checkout -b {STABLE_BRANCH}\n",
    "    ! git push {GIT_REMOTE_UPSTREAM} {STABLE_BRANCH}\n",
    "    ! git checkout {WORK_BRANCH}"
   ]
  },
  {
   "cell_type": "markdown",
   "metadata": {},
   "source": [
    "### Build the gem"
   ]
  },
  {
   "cell_type": "code",
   "execution_count": null,
   "metadata": {},
   "outputs": [],
   "source": [
    "! rake build"
   ]
  },
  {
   "cell_type": "code",
   "execution_count": null,
   "metadata": {},
   "outputs": [],
   "source": [
    "! gem push pkg/hammer_cli_foreman-{NEW_VERSION}.gem"
   ]
  },
  {
   "cell_type": "markdown",
   "metadata": {},
   "source": [
    "### Bump the develop version for major release"
   ]
  },
  {
   "cell_type": "code",
   "execution_count": null,
   "metadata": {},
   "outputs": [],
   "source": [
    "if MAJOR_RELEASE:\n",
    "    ! sed -i 's/Gem::Version.new .*/Gem::Version.new \"{DEVELOP_VERSION}\"/' lib/hammer_cli_foreman/version.rb"
   ]
  },
  {
   "cell_type": "code",
   "execution_count": null,
   "metadata": {
    "scrolled": true
   },
   "outputs": [],
   "source": [
    "if MAJOR_RELEASE:\n",
    "    ! git add -u\n",
    "    ! git status"
   ]
  },
  {
   "cell_type": "code",
   "execution_count": null,
   "metadata": {
    "scrolled": true
   },
   "outputs": [],
   "source": [
    "if MAJOR_RELEASE:\n",
    "    ! git diff --cached"
   ]
  },
  {
   "cell_type": "code",
   "execution_count": null,
   "metadata": {
    "scrolled": true
   },
   "outputs": [],
   "source": [
    "if MAJOR_RELEASE:\n",
    "    ! git commit -m \"Bump to {DEVELOP_VERSION}\""
   ]
  },
  {
   "cell_type": "markdown",
   "metadata": {},
   "source": [
    "### PUSH the changes upstream If everything is correct"
   ]
  },
  {
   "cell_type": "code",
   "execution_count": null,
   "metadata": {},
   "outputs": [],
   "source": [
    "! git push {GIT_REMOTE_UPSTREAM} {WORK_BRANCH}"
   ]
  },
  {
   "cell_type": "code",
   "execution_count": null,
   "metadata": {},
   "outputs": [],
   "source": [
    "! git push --tags {GIT_REMOTE_UPSTREAM} {WORK_BRANCH}"
   ]
  },
  {
   "cell_type": "markdown",
   "metadata": {},
   "source": [
    "#### Now the new release is in upstream repo"
   ]
  },
  {
   "cell_type": "markdown",
   "metadata": {},
   "source": [
    "### Some manual steps follow to improve the UX\n",
    "\n",
    "#### New relase on GitHub\n",
    "\n",
    "Copy the following changelog lines to the description in form on link below\n",
    "The release title is the new version."
   ]
  },
  {
   "cell_type": "code",
   "execution_count": null,
   "metadata": {},
   "outputs": [],
   "source": [
    "print('\\n')\n",
    "print('\\n'.join(change_log))\n",
    "print('\\n\\nhttps://github.com/theforeman/hammer-cli-foreman/releases/new?tag=%s' % NEW_VERSION)"
   ]
  },
  {
   "cell_type": "code",
   "execution_count": null,
   "metadata": {},
   "outputs": [],
   "source": [
    "from IPython.display import Markdown as md\n",
    "\n",
    "md('### Create new hammer-cli-foreman release in Redmine \\n' + \\\n",
    "    '<a href=\"https://projects.theforeman.org/projects/hammer-cli/versions/new\" target=\"_blank\">https://projects.theforeman.org/projects/hammer-cli/versions/new</a>\\n\\n' + \\\n",
    "    'Set name to hammer-cli-foreman-%s' % (NEXT_FUTURE_VERSION if MAJOR_RELEASE else NEW_VERSION))"
   ]
  },
  {
   "cell_type": "code",
   "execution_count": null,
   "metadata": {},
   "outputs": [],
   "source": [
    "if not MAJOR_RELEASE:\n",
    "    print('Set fixed in versions to %s in following issues:' % NEW_VERSION)\n",
    "    for i in referenced_issues:\n",
    "        print('- https://projects.theforeman.org/issues/%s' % i)"
   ]
  },
  {
   "cell_type": "markdown",
   "metadata": {},
   "source": [
    "## Congratulations\n",
    "\n",
    "Release is public now."
   ]
  }
 ],
 "metadata": {
  "kernelspec": {
   "display_name": "Python 3",
   "language": "python",
   "name": "python3"
  },
  "language_info": {
   "codemirror_mode": {
    "name": "ipython",
    "version": 3
   },
   "file_extension": ".py",
   "mimetype": "text/x-python",
   "name": "python",
   "nbconvert_exporter": "python",
   "pygments_lexer": "ipython3",
   "version": "3.7.9"
  }
 },
 "nbformat": 4,
 "nbformat_minor": 2
}
